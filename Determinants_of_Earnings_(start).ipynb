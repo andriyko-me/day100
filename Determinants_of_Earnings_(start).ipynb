{
 "cells": [
  {
   "cell_type": "markdown",
   "metadata": {
    "id": "BHg0HZz-intQ"
   },
   "source": [
    "# Introduction"
   ]
  },
  {
   "cell_type": "markdown",
   "metadata": {
    "id": "V2RQkgAbiqJv"
   },
   "source": [
    "The National Longitudinal Survey of Youth 1997-2011 dataset is one of the most important databases available to social scientists working with US data. \n",
    "\n",
    "It allows scientists to look at the determinants of earnings as well as educational attainment and has incredible relevance for government policy. It can also shed light on politically sensitive issues like how different educational attainment and salaries are for people of different ethnicity, sex, and other factors. When we have a better understanding how these variables affect education and earnings we can also formulate more suitable government policies. \n",
    "\n",
    "<center><img src=https://i.imgur.com/cxBpQ3I.png height=400></center>\n"
   ]
  },
  {
   "cell_type": "markdown",
   "metadata": {
    "id": "YjCPWWUSirY_"
   },
   "source": [
    "### Upgrade Plotly"
   ]
  },
  {
   "cell_type": "code",
   "execution_count": 1,
   "metadata": {
    "id": "v74l3QCGirIX"
   },
   "outputs": [
    {
     "name": "stdout",
     "output_type": "stream",
     "text": [
      "Requirement already satisfied: plotly in c:\\users\\t3600\\appdata\\local\\programs\\python\\python38\\lib\\site-packages (5.11.0)\n",
      "Collecting plotly\n",
      "  Downloading plotly-5.13.0-py2.py3-none-any.whl (15.2 MB)\n",
      "     ---------------------------------------- 15.2/15.2 MB 6.8 MB/s eta 0:00:00\n",
      "Requirement already satisfied: tenacity>=6.2.0 in c:\\users\\t3600\\appdata\\local\\programs\\python\\python38\\lib\\site-packages (from plotly) (8.1.0)\n",
      "Installing collected packages: plotly\n",
      "  Attempting uninstall: plotly\n",
      "    Found existing installation: plotly 5.11.0\n",
      "    Uninstalling plotly-5.11.0:\n",
      "      Successfully uninstalled plotly-5.11.0\n",
      "Note: you may need to restart the kernel to use updated packages.\n"
     ]
    },
    {
     "name": "stderr",
     "output_type": "stream",
     "text": [
      "ERROR: Could not install packages due to an OSError: [WinError 145] \\u041f\\u0430\\u043f\\u043a\\u0430 \\u043d\\u0435 \\u043f\\u0443\\u0441\\u0442\\u0430: 'C:\\\\Users\\\\T3600\\\\AppData\\\\Local\\\\Programs\\\\Python\\\\Python38\\\\Lib\\\\site-packages\\\\~lotly\\\\validators\\\\layout\\\\polar\\\\radialaxis\\\\title\\\\font'\n",
      "\n"
     ]
    }
   ],
   "source": [
    "%pip install --upgrade plotly"
   ]
  },
  {
   "cell_type": "markdown",
   "metadata": {
    "id": "br_QkHBMjC1Q"
   },
   "source": [
    "###  Import Statements\n"
   ]
  },
  {
   "cell_type": "code",
   "execution_count": 3,
   "metadata": {
    "id": "gSKZx-kwie_u"
   },
   "outputs": [],
   "source": [
    "import pandas as pd\n",
    "import numpy as np\n",
    "\n",
    "import seaborn as sns\n",
    "import plotly.express as px\n",
    "import matplotlib.pyplot as plt\n",
    "\n",
    "from sklearn.linear_model import LinearRegression\n",
    "from sklearn.model_selection import train_test_split"
   ]
  },
  {
   "cell_type": "markdown",
   "metadata": {
    "id": "9pgsrth_izCn"
   },
   "source": [
    "## Notebook Presentation"
   ]
  },
  {
   "cell_type": "code",
   "execution_count": 5,
   "metadata": {
    "id": "Cgwu-WbBizqY"
   },
   "outputs": [],
   "source": [
    "pd.options.display.float_format = '{:,.2f}'.format"
   ]
  },
  {
   "cell_type": "markdown",
   "metadata": {
    "id": "E5bhysOOjLRr"
   },
   "source": [
    "# Load the Data\n",
    "\n"
   ]
  },
  {
   "cell_type": "code",
   "execution_count": 11,
   "metadata": {
    "id": "6VngeTQwjM-X"
   },
   "outputs": [
    {
     "data": {
      "text/html": [
       "<div>\n",
       "<style scoped>\n",
       "    .dataframe tbody tr th:only-of-type {\n",
       "        vertical-align: middle;\n",
       "    }\n",
       "\n",
       "    .dataframe tbody tr th {\n",
       "        vertical-align: top;\n",
       "    }\n",
       "\n",
       "    .dataframe thead th {\n",
       "        text-align: right;\n",
       "    }\n",
       "</style>\n",
       "<table border=\"1\" class=\"dataframe\">\n",
       "  <thead>\n",
       "    <tr style=\"text-align: right;\">\n",
       "      <th></th>\n",
       "      <th>Personal variables</th>\n",
       "      <th>Variable Type</th>\n",
       "      <th>Description</th>\n",
       "    </tr>\n",
       "  </thead>\n",
       "  <tbody>\n",
       "    <tr>\n",
       "      <th>0</th>\n",
       "      <td>FEMALE</td>\n",
       "      <td>D</td>\n",
       "      <td>Sex of respondent (0 if male, 1 if female)</td>\n",
       "    </tr>\n",
       "    <tr>\n",
       "      <th>1</th>\n",
       "      <td>MALE</td>\n",
       "      <td>D</td>\n",
       "      <td>Sex of respondent (1 if male, 0 if female)</td>\n",
       "    </tr>\n",
       "    <tr>\n",
       "      <th>2</th>\n",
       "      <td>NaN</td>\n",
       "      <td>NaN</td>\n",
       "      <td>NaN</td>\n",
       "    </tr>\n",
       "    <tr>\n",
       "      <th>3</th>\n",
       "      <td>Ethnicity:</td>\n",
       "      <td>NaN</td>\n",
       "      <td>NaN</td>\n",
       "    </tr>\n",
       "    <tr>\n",
       "      <th>4</th>\n",
       "      <td>ETHBLACK</td>\n",
       "      <td>D</td>\n",
       "      <td>Black</td>\n",
       "    </tr>\n",
       "    <tr>\n",
       "      <th>...</th>\n",
       "      <td>...</td>\n",
       "      <td>...</td>\n",
       "      <td>...</td>\n",
       "    </tr>\n",
       "    <tr>\n",
       "      <th>117</th>\n",
       "      <td>URBAN</td>\n",
       "      <td>D</td>\n",
       "      <td>Living in an urban area</td>\n",
       "    </tr>\n",
       "    <tr>\n",
       "      <th>118</th>\n",
       "      <td>REGNE</td>\n",
       "      <td>D</td>\n",
       "      <td>Census region North east</td>\n",
       "    </tr>\n",
       "    <tr>\n",
       "      <th>119</th>\n",
       "      <td>REGNC</td>\n",
       "      <td>D</td>\n",
       "      <td>Census region North central</td>\n",
       "    </tr>\n",
       "    <tr>\n",
       "      <th>120</th>\n",
       "      <td>REGW</td>\n",
       "      <td>D</td>\n",
       "      <td>Census region West</td>\n",
       "    </tr>\n",
       "    <tr>\n",
       "      <th>121</th>\n",
       "      <td>REGS</td>\n",
       "      <td>D</td>\n",
       "      <td>Census region South</td>\n",
       "    </tr>\n",
       "  </tbody>\n",
       "</table>\n",
       "<p>122 rows × 3 columns</p>\n",
       "</div>"
      ],
      "text/plain": [
       "    Personal variables Variable Type  \\\n",
       "0               FEMALE             D   \n",
       "1                 MALE             D   \n",
       "2                  NaN           NaN   \n",
       "3           Ethnicity:           NaN   \n",
       "4             ETHBLACK             D   \n",
       "..                 ...           ...   \n",
       "117              URBAN             D   \n",
       "118              REGNE             D   \n",
       "119              REGNC             D   \n",
       "120               REGW             D   \n",
       "121               REGS             D   \n",
       "\n",
       "                                    Description  \n",
       "0    Sex of respondent (0 if male, 1 if female)  \n",
       "1    Sex of respondent (1 if male, 0 if female)  \n",
       "2                                           NaN  \n",
       "3                                           NaN  \n",
       "4                                         Black  \n",
       "..                                          ...  \n",
       "117                     Living in an urban area  \n",
       "118                    Census region North east  \n",
       "119                 Census region North central  \n",
       "120                          Census region West  \n",
       "121                         Census region South  \n",
       "\n",
       "[122 rows x 3 columns]"
      ]
     },
     "execution_count": 11,
     "metadata": {},
     "output_type": "execute_result"
    }
   ],
   "source": [
    "df = pd.read_csv('NLSY97_subset.csv')\n",
    "descr = pd.read_csv('NLSY97_Variable_Names_and_Descriptions.csv')\n",
    "descr"
   ]
  },
  {
   "cell_type": "markdown",
   "metadata": {
    "id": "_ZjIBJ5jjrj0"
   },
   "source": [
    "### Understand the Dataset\n",
    "\n",
    "Have a look at the file entitled `NLSY97_Variable_Names_and_Descriptions.csv`. \n",
    "\n",
    "---------------------------\n",
    "\n",
    "    :Key Variables:  \n",
    "      1. S           Years of schooling (highest grade completed as of 2011)\n",
    "      2. EXP         Total out-of-school work experience (years) as of the 2011 interview.\n",
    "      3. EARNINGS    Current hourly earnings in $ reported at the 2011 interview"
   ]
  },
  {
   "cell_type": "markdown",
   "metadata": {
    "id": "8MkSxkjVnIfW"
   },
   "source": [
    "# Preliminary Data Exploration 🔎\n",
    "\n",
    "**Challenge**\n",
    "\n",
    "* What is the shape of `df_data`? \n",
    "* How many rows and columns does it have?\n",
    "* What are the column names?\n",
    "* Are there any NaN values or duplicates?"
   ]
  },
  {
   "cell_type": "code",
   "execution_count": 18,
   "metadata": {
    "id": "V_cQguBbjwZv"
   },
   "outputs": [
    {
     "data": {
      "text/plain": [
       "True"
      ]
     },
     "execution_count": 18,
     "metadata": {},
     "output_type": "execute_result"
    }
   ],
   "source": [
    "df.shape\n",
    "df.columns\n",
    "df.isna().values.any()"
   ]
  },
  {
   "cell_type": "markdown",
   "metadata": {
    "id": "4itxqgP6nQj3"
   },
   "source": [
    "## Data Cleaning - Check for Missing Values and Duplicates\n",
    "\n",
    "Find and remove any duplicate rows."
   ]
  },
  {
   "cell_type": "code",
   "execution_count": 14,
   "metadata": {
    "id": "J3DHEFXWnS2N"
   },
   "outputs": [],
   "source": [
    "df = df.drop_duplicates()"
   ]
  },
  {
   "cell_type": "markdown",
   "metadata": {
    "id": "gGmBBPxZnVKC"
   },
   "source": [
    "## Descriptive Statistics"
   ]
  },
  {
   "cell_type": "code",
   "execution_count": 25,
   "metadata": {
    "id": "I5VP2BMVnVrt"
   },
   "outputs": [
    {
     "data": {
      "text/html": [
       "<div>\n",
       "<style scoped>\n",
       "    .dataframe tbody tr th:only-of-type {\n",
       "        vertical-align: middle;\n",
       "    }\n",
       "\n",
       "    .dataframe tbody tr th {\n",
       "        vertical-align: top;\n",
       "    }\n",
       "\n",
       "    .dataframe thead th {\n",
       "        text-align: right;\n",
       "    }\n",
       "</style>\n",
       "<table border=\"1\" class=\"dataframe\">\n",
       "  <thead>\n",
       "    <tr style=\"text-align: right;\">\n",
       "      <th></th>\n",
       "      <th>ID</th>\n",
       "      <th>EARNINGS</th>\n",
       "      <th>S</th>\n",
       "      <th>EXP</th>\n",
       "      <th>FEMALE</th>\n",
       "      <th>MALE</th>\n",
       "      <th>BYEAR</th>\n",
       "      <th>AGE</th>\n",
       "      <th>AGEMBTH</th>\n",
       "      <th>HHINC97</th>\n",
       "      <th>...</th>\n",
       "      <th>URBAN</th>\n",
       "      <th>REGNE</th>\n",
       "      <th>REGNC</th>\n",
       "      <th>REGW</th>\n",
       "      <th>REGS</th>\n",
       "      <th>MSA11NO</th>\n",
       "      <th>MSA11NCC</th>\n",
       "      <th>MSA11CC</th>\n",
       "      <th>MSA11NK</th>\n",
       "      <th>MSA11NIC</th>\n",
       "    </tr>\n",
       "  </thead>\n",
       "  <tbody>\n",
       "    <tr>\n",
       "      <th>count</th>\n",
       "      <td>1,487.00</td>\n",
       "      <td>1,487.00</td>\n",
       "      <td>1,487.00</td>\n",
       "      <td>1,487.00</td>\n",
       "      <td>1,487.00</td>\n",
       "      <td>1,487.00</td>\n",
       "      <td>1,487.00</td>\n",
       "      <td>1,487.00</td>\n",
       "      <td>1,453.00</td>\n",
       "      <td>1,205.00</td>\n",
       "      <td>...</td>\n",
       "      <td>1,487.00</td>\n",
       "      <td>1,487.00</td>\n",
       "      <td>1,487.00</td>\n",
       "      <td>1,487.00</td>\n",
       "      <td>1,487.00</td>\n",
       "      <td>1,487.00</td>\n",
       "      <td>1,487.00</td>\n",
       "      <td>1,487.00</td>\n",
       "      <td>1,487.00</td>\n",
       "      <td>1,487.00</td>\n",
       "    </tr>\n",
       "    <tr>\n",
       "      <th>mean</th>\n",
       "      <td>3,547.13</td>\n",
       "      <td>18.81</td>\n",
       "      <td>14.56</td>\n",
       "      <td>6.70</td>\n",
       "      <td>0.49</td>\n",
       "      <td>0.51</td>\n",
       "      <td>1,982.07</td>\n",
       "      <td>28.93</td>\n",
       "      <td>26.32</td>\n",
       "      <td>58,310.67</td>\n",
       "      <td>...</td>\n",
       "      <td>0.78</td>\n",
       "      <td>0.16</td>\n",
       "      <td>0.27</td>\n",
       "      <td>0.34</td>\n",
       "      <td>0.23</td>\n",
       "      <td>0.05</td>\n",
       "      <td>0.54</td>\n",
       "      <td>0.41</td>\n",
       "      <td>0.00</td>\n",
       "      <td>0.00</td>\n",
       "    </tr>\n",
       "    <tr>\n",
       "      <th>std</th>\n",
       "      <td>2,009.84</td>\n",
       "      <td>12.00</td>\n",
       "      <td>2.77</td>\n",
       "      <td>2.86</td>\n",
       "      <td>0.50</td>\n",
       "      <td>0.50</td>\n",
       "      <td>1.38</td>\n",
       "      <td>1.38</td>\n",
       "      <td>5.08</td>\n",
       "      <td>43,868.05</td>\n",
       "      <td>...</td>\n",
       "      <td>0.43</td>\n",
       "      <td>0.36</td>\n",
       "      <td>0.44</td>\n",
       "      <td>0.47</td>\n",
       "      <td>0.42</td>\n",
       "      <td>0.21</td>\n",
       "      <td>0.50</td>\n",
       "      <td>0.49</td>\n",
       "      <td>0.04</td>\n",
       "      <td>0.00</td>\n",
       "    </tr>\n",
       "    <tr>\n",
       "      <th>min</th>\n",
       "      <td>1.00</td>\n",
       "      <td>2.00</td>\n",
       "      <td>6.00</td>\n",
       "      <td>0.00</td>\n",
       "      <td>0.00</td>\n",
       "      <td>0.00</td>\n",
       "      <td>1,980.00</td>\n",
       "      <td>27.00</td>\n",
       "      <td>12.00</td>\n",
       "      <td>0.00</td>\n",
       "      <td>...</td>\n",
       "      <td>0.00</td>\n",
       "      <td>0.00</td>\n",
       "      <td>0.00</td>\n",
       "      <td>0.00</td>\n",
       "      <td>0.00</td>\n",
       "      <td>0.00</td>\n",
       "      <td>0.00</td>\n",
       "      <td>0.00</td>\n",
       "      <td>0.00</td>\n",
       "      <td>0.00</td>\n",
       "    </tr>\n",
       "    <tr>\n",
       "      <th>25%</th>\n",
       "      <td>1,888.00</td>\n",
       "      <td>11.41</td>\n",
       "      <td>12.00</td>\n",
       "      <td>4.65</td>\n",
       "      <td>0.00</td>\n",
       "      <td>0.00</td>\n",
       "      <td>1,981.00</td>\n",
       "      <td>28.00</td>\n",
       "      <td>23.00</td>\n",
       "      <td>32,000.00</td>\n",
       "      <td>...</td>\n",
       "      <td>1.00</td>\n",
       "      <td>0.00</td>\n",
       "      <td>0.00</td>\n",
       "      <td>0.00</td>\n",
       "      <td>0.00</td>\n",
       "      <td>0.00</td>\n",
       "      <td>0.00</td>\n",
       "      <td>0.00</td>\n",
       "      <td>0.00</td>\n",
       "      <td>0.00</td>\n",
       "    </tr>\n",
       "    <tr>\n",
       "      <th>50%</th>\n",
       "      <td>3,474.00</td>\n",
       "      <td>15.75</td>\n",
       "      <td>15.00</td>\n",
       "      <td>6.63</td>\n",
       "      <td>0.00</td>\n",
       "      <td>1.00</td>\n",
       "      <td>1,982.00</td>\n",
       "      <td>29.00</td>\n",
       "      <td>26.00</td>\n",
       "      <td>50,500.00</td>\n",
       "      <td>...</td>\n",
       "      <td>1.00</td>\n",
       "      <td>0.00</td>\n",
       "      <td>0.00</td>\n",
       "      <td>0.00</td>\n",
       "      <td>0.00</td>\n",
       "      <td>0.00</td>\n",
       "      <td>1.00</td>\n",
       "      <td>0.00</td>\n",
       "      <td>0.00</td>\n",
       "      <td>0.00</td>\n",
       "    </tr>\n",
       "    <tr>\n",
       "      <th>75%</th>\n",
       "      <td>5,160.50</td>\n",
       "      <td>22.60</td>\n",
       "      <td>16.00</td>\n",
       "      <td>8.71</td>\n",
       "      <td>1.00</td>\n",
       "      <td>1.00</td>\n",
       "      <td>1,983.00</td>\n",
       "      <td>30.00</td>\n",
       "      <td>30.00</td>\n",
       "      <td>72,000.00</td>\n",
       "      <td>...</td>\n",
       "      <td>1.00</td>\n",
       "      <td>0.00</td>\n",
       "      <td>1.00</td>\n",
       "      <td>1.00</td>\n",
       "      <td>0.00</td>\n",
       "      <td>0.00</td>\n",
       "      <td>1.00</td>\n",
       "      <td>1.00</td>\n",
       "      <td>0.00</td>\n",
       "      <td>0.00</td>\n",
       "    </tr>\n",
       "    <tr>\n",
       "      <th>max</th>\n",
       "      <td>8,980.00</td>\n",
       "      <td>132.89</td>\n",
       "      <td>20.00</td>\n",
       "      <td>14.73</td>\n",
       "      <td>1.00</td>\n",
       "      <td>1.00</td>\n",
       "      <td>1,984.00</td>\n",
       "      <td>31.00</td>\n",
       "      <td>45.00</td>\n",
       "      <td>246,474.00</td>\n",
       "      <td>...</td>\n",
       "      <td>2.00</td>\n",
       "      <td>1.00</td>\n",
       "      <td>1.00</td>\n",
       "      <td>1.00</td>\n",
       "      <td>1.00</td>\n",
       "      <td>1.00</td>\n",
       "      <td>1.00</td>\n",
       "      <td>1.00</td>\n",
       "      <td>1.00</td>\n",
       "      <td>0.00</td>\n",
       "    </tr>\n",
       "  </tbody>\n",
       "</table>\n",
       "<p>8 rows × 96 columns</p>\n",
       "</div>"
      ],
      "text/plain": [
       "            ID  EARNINGS        S      EXP   FEMALE     MALE    BYEAR  \\\n",
       "count 1,487.00  1,487.00 1,487.00 1,487.00 1,487.00 1,487.00 1,487.00   \n",
       "mean  3,547.13     18.81    14.56     6.70     0.49     0.51 1,982.07   \n",
       "std   2,009.84     12.00     2.77     2.86     0.50     0.50     1.38   \n",
       "min       1.00      2.00     6.00     0.00     0.00     0.00 1,980.00   \n",
       "25%   1,888.00     11.41    12.00     4.65     0.00     0.00 1,981.00   \n",
       "50%   3,474.00     15.75    15.00     6.63     0.00     1.00 1,982.00   \n",
       "75%   5,160.50     22.60    16.00     8.71     1.00     1.00 1,983.00   \n",
       "max   8,980.00    132.89    20.00    14.73     1.00     1.00 1,984.00   \n",
       "\n",
       "           AGE  AGEMBTH    HHINC97  ...    URBAN    REGNE    REGNC     REGW  \\\n",
       "count 1,487.00 1,453.00   1,205.00  ... 1,487.00 1,487.00 1,487.00 1,487.00   \n",
       "mean     28.93    26.32  58,310.67  ...     0.78     0.16     0.27     0.34   \n",
       "std       1.38     5.08  43,868.05  ...     0.43     0.36     0.44     0.47   \n",
       "min      27.00    12.00       0.00  ...     0.00     0.00     0.00     0.00   \n",
       "25%      28.00    23.00  32,000.00  ...     1.00     0.00     0.00     0.00   \n",
       "50%      29.00    26.00  50,500.00  ...     1.00     0.00     0.00     0.00   \n",
       "75%      30.00    30.00  72,000.00  ...     1.00     0.00     1.00     1.00   \n",
       "max      31.00    45.00 246,474.00  ...     2.00     1.00     1.00     1.00   \n",
       "\n",
       "          REGS  MSA11NO  MSA11NCC  MSA11CC  MSA11NK  MSA11NIC  \n",
       "count 1,487.00 1,487.00  1,487.00 1,487.00 1,487.00  1,487.00  \n",
       "mean      0.23     0.05      0.54     0.41     0.00      0.00  \n",
       "std       0.42     0.21      0.50     0.49     0.04      0.00  \n",
       "min       0.00     0.00      0.00     0.00     0.00      0.00  \n",
       "25%       0.00     0.00      0.00     0.00     0.00      0.00  \n",
       "50%       0.00     0.00      1.00     0.00     0.00      0.00  \n",
       "75%       0.00     0.00      1.00     1.00     0.00      0.00  \n",
       "max       1.00     1.00      1.00     1.00     1.00      0.00  \n",
       "\n",
       "[8 rows x 96 columns]"
      ]
     },
     "execution_count": 25,
     "metadata": {},
     "output_type": "execute_result"
    }
   ],
   "source": [
    "df.describe()"
   ]
  },
  {
   "cell_type": "markdown",
   "metadata": {
    "id": "ZO-86NXbnWSH"
   },
   "source": [
    "## Visualise the Features"
   ]
  },
  {
   "cell_type": "code",
   "execution_count": 34,
   "metadata": {
    "id": "hFZJjbsKncPM"
   },
   "outputs": [
    {
     "data": {
      "text/plain": [
       "0       12\n",
       "1       17\n",
       "2       14\n",
       "3       18\n",
       "4       15\n",
       "        ..\n",
       "1984    12\n",
       "1989    12\n",
       "1991    17\n",
       "1994    12\n",
       "1995     8\n",
       "Name: S, Length: 1487, dtype: int64"
      ]
     },
     "execution_count": 34,
     "metadata": {},
     "output_type": "execute_result"
    }
   ],
   "source": [
    "y = df['EARNINGS']\n",
    "X = df['S']\n",
    "X"
   ]
  },
  {
   "cell_type": "markdown",
   "metadata": {
    "id": "9i4zHYG4nhDL"
   },
   "source": [
    "# Split Training & Test Dataset\n",
    "\n",
    "We *can't* use all the entries in our dataset to train our model. Keep 20% of the data for later as a testing dataset (out-of-sample data).  "
   ]
  },
  {
   "cell_type": "code",
   "execution_count": null,
   "metadata": {
    "id": "M_OfRSyunkA1"
   },
   "outputs": [],
   "source": [
    "train_X, val_x, train_y, val_y = train_test_split(X, y, )"
   ]
  },
  {
   "cell_type": "markdown",
   "metadata": {
    "id": "EM99NOH0noFS"
   },
   "source": [
    "# Simple Linear Regression\n",
    "\n",
    "Only use the years of schooling to predict earnings. Use sklearn to run the regression on the training dataset. How high is the r-squared for the regression on the training data? "
   ]
  },
  {
   "cell_type": "code",
   "execution_count": null,
   "metadata": {
    "id": "J_MViuoNnvHf"
   },
   "outputs": [],
   "source": []
  },
  {
   "cell_type": "markdown",
   "metadata": {
    "id": "s2TeWKs7oJSa"
   },
   "source": [
    "### Evaluate the Coefficients of the Model\n",
    "\n",
    "Here we do a sense check on our regression coefficients. The first thing to look for is if the coefficients have the expected sign (positive or negative). \n",
    "\n",
    "Interpret the regression. How many extra dollars can one expect to earn for an additional year of schooling?"
   ]
  },
  {
   "cell_type": "code",
   "execution_count": null,
   "metadata": {
    "id": "QmhzZAmAoW4t"
   },
   "outputs": [],
   "source": []
  },
  {
   "cell_type": "code",
   "execution_count": null,
   "metadata": {
    "id": "e9hpdAt3oWnq"
   },
   "outputs": [],
   "source": []
  },
  {
   "cell_type": "markdown",
   "metadata": {
    "id": "WIyMPXXYobx8"
   },
   "source": [
    "### Analyse the Estimated Values & Regression Residuals\n",
    "\n",
    "How good our regression is also depends on the residuals - the difference between the model's predictions ( 𝑦̂ 𝑖 ) and the true values ( 𝑦𝑖 ) inside y_train. Do you see any patterns in the distribution of the residuals?"
   ]
  },
  {
   "cell_type": "code",
   "execution_count": null,
   "metadata": {
    "id": "khkgscweosP_"
   },
   "outputs": [],
   "source": []
  },
  {
   "cell_type": "code",
   "execution_count": null,
   "metadata": {
    "id": "m_diDXSXotm6"
   },
   "outputs": [],
   "source": []
  },
  {
   "cell_type": "code",
   "execution_count": null,
   "metadata": {
    "id": "6DfAEUWNosHd"
   },
   "outputs": [],
   "source": []
  },
  {
   "cell_type": "markdown",
   "metadata": {
    "id": "zNBuJ1iBnvpl"
   },
   "source": [
    "# Multivariable Regression\n",
    "\n",
    "Now use both years of schooling and the years work experience to predict earnings. How high is the r-squared for the regression on the training data? "
   ]
  },
  {
   "cell_type": "code",
   "execution_count": null,
   "metadata": {
    "id": "Ihq-C4looCSM"
   },
   "outputs": [],
   "source": []
  },
  {
   "cell_type": "code",
   "execution_count": null,
   "metadata": {
    "id": "dRhB7Iwboyfq"
   },
   "outputs": [],
   "source": []
  },
  {
   "cell_type": "markdown",
   "metadata": {
    "id": "nHDtunM0oyuk"
   },
   "source": [
    "### Evaluate the Coefficients of the Model"
   ]
  },
  {
   "cell_type": "code",
   "execution_count": null,
   "metadata": {
    "id": "5vasqInIoydB"
   },
   "outputs": [],
   "source": []
  },
  {
   "cell_type": "markdown",
   "metadata": {
    "id": "Yv8q90IYou2Q"
   },
   "source": [
    "### Analyse the Estimated Values & Regression Residuals"
   ]
  },
  {
   "cell_type": "code",
   "execution_count": null,
   "metadata": {
    "id": "8NmXnsxfowkI"
   },
   "outputs": [],
   "source": []
  },
  {
   "cell_type": "code",
   "execution_count": null,
   "metadata": {
    "id": "0ZZ1e0spo5o1"
   },
   "outputs": [],
   "source": []
  },
  {
   "cell_type": "markdown",
   "metadata": {
    "id": "YWNeoqPLpjVb"
   },
   "source": [
    "# Use Your Model to Make a Prediction\n",
    "\n",
    "How much can someone with a bachelors degree (12 + 4) years of schooling and 5 years work experience expect to earn in 2011?"
   ]
  },
  {
   "cell_type": "code",
   "execution_count": null,
   "metadata": {
    "id": "Mof-14lCpv60"
   },
   "outputs": [],
   "source": []
  },
  {
   "cell_type": "code",
   "execution_count": null,
   "metadata": {
    "id": "3htX8_SBpvyb"
   },
   "outputs": [],
   "source": []
  },
  {
   "cell_type": "markdown",
   "metadata": {
    "id": "TIYI-eQepDSQ"
   },
   "source": [
    "# Experiment and Investigate Further\n",
    "\n",
    "Which other features could you consider adding to further improve the regression to better predict earnings? "
   ]
  },
  {
   "cell_type": "code",
   "execution_count": null,
   "metadata": {
    "id": "sd07-pKopJgo"
   },
   "outputs": [],
   "source": []
  },
  {
   "cell_type": "code",
   "execution_count": null,
   "metadata": {
    "id": "Fohe2-Rdp1MO"
   },
   "outputs": [],
   "source": []
  }
 ],
 "metadata": {
  "colab": {
   "name": "Determinants of Earnings (start).ipynb",
   "provenance": [],
   "toc_visible": true
  },
  "kernelspec": {
   "display_name": "Python 3 (ipykernel)",
   "language": "python",
   "name": "python3"
  },
  "language_info": {
   "codemirror_mode": {
    "name": "ipython",
    "version": 3
   },
   "file_extension": ".py",
   "mimetype": "text/x-python",
   "name": "python",
   "nbconvert_exporter": "python",
   "pygments_lexer": "ipython3",
   "version": "3.8.9"
  }
 },
 "nbformat": 4,
 "nbformat_minor": 1
}
